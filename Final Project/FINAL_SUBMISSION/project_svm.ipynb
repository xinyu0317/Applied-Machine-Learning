{
  "cells": [
    {
      "cell_type": "code",
      "execution_count": null,
      "metadata": {
        "id": "VaynSjX5C5Lv"
      },
      "outputs": [],
      "source": [
        "import numpy as np\n",
        "import pandas as pd\n",
        "import matplotlib.pyplot as plt\n",
        "import seaborn as sns\n",
        "from sklearn.model_selection import train_test_split\n",
        "from sklearn.preprocessing import OneHotEncoder\n",
        "from sklearn.compose import ColumnTransformer\n",
        "from sklearn.model_selection import cross_val_score, StratifiedKFold\n",
        "from sklearn.preprocessing import StandardScaler\n",
        "from sklearn.tree import DecisionTreeClassifier \n",
        "from sklearn import tree\n",
        "from sklearn.metrics import accuracy_score\n",
        "from sklearn.model_selection import cross_val_score\n",
        "from sklearn.metrics import confusion_matrix\n",
        "from sklearn import metrics\n",
        "from sklearn.model_selection import GridSearchCV\n",
        "from sklearn.ensemble import RandomForestClassifier\n",
        "from sklearn.ensemble import GradientBoostingClassifier\n",
        "from sklearn.experimental import enable_hist_gradient_boosting\n",
        "from sklearn.ensemble import HistGradientBoostingClassifier\n",
        "from xgboost import XGBClassifier"
      ]
    },
    {
      "cell_type": "code",
      "execution_count": null,
      "metadata": {
        "id": "kqUDz4ncDEhD"
      },
      "outputs": [],
      "source": [
        "df = pd.read_csv(\"file3.csv\")\n",
        "df = df.drop(columns=['Unnamed: 0','STAT_CAUSE_CODE','DISCOVERY_DATE_Greg','CONT_DATE_Greg'])\n",
        "df"
      ]
    },
    {
      "cell_type": "code",
      "execution_count": null,
      "metadata": {
        "id": "CKI-KuG2IPpT"
      },
      "outputs": [],
      "source": [
        "# df = df.head(10000)\n",
        "# df = df[df['STATE']=='CA']\n",
        "df"
      ]
    },
    {
      "cell_type": "code",
      "execution_count": null,
      "metadata": {
        "id": "AdyaLkoiDaJJ"
      },
      "outputs": [],
      "source": [
        "from sklearn import preprocessing\n",
        "le = preprocessing.LabelEncoder()\n",
        "df['STAT_CAUSE_DESCR'] = le.fit_transform(df['STAT_CAUSE_DESCR'])\n",
        "df['STATE'] = le.fit_transform(df['STATE'])\n",
        "df['DISCOVERY_DAY_OF_WEEK'] = le.fit_transform(df['DISCOVERY_DAY_OF_WEEK'])\n",
        "df['CONTAIN_DAY_OF_WEEK'] = le.fit_transform(df['CONTAIN_DAY_OF_WEEK'])"
      ]
    },
    {
      "cell_type": "code",
      "execution_count": null,
      "metadata": {
        "id": "1eW8lnBNFfwq"
      },
      "outputs": [],
      "source": [
        "df = df.dropna()\n",
        "df = df.reset_index()\n",
        "x = df.drop(columns = ['STAT_CAUSE_DESCR'])\n",
        "y = df['STAT_CAUSE_DESCR']"
      ]
    },
    {
      "cell_type": "code",
      "execution_count": null,
      "metadata": {
        "id": "v4EvgQ8FFhwa"
      },
      "outputs": [],
      "source": [
        "from sklearn.model_selection import cross_val_score, StratifiedKFold\n",
        "X_dev, X_test, y_dev, y_test = train_test_split(x, y, test_size=0.2, random_state=0, stratify=y)\n",
        "X_train, X_valid, y_train, y_valid = train_test_split(X_dev, y_dev, test_size=0.2, random_state=0)"
      ]
    },
    {
      "cell_type": "code",
      "source": [
        "from sklearn.svm import SVC\n",
        "\n",
        "rbf_svm = SVC(C=1, kernel='rbf', gamma=1.0)\n",
        "rbf_svm.fit(X_train, y_train)"
      ],
      "metadata": {
        "id": "eDAjKbyvVZJ9"
      },
      "execution_count": null,
      "outputs": []
    },
    {
      "cell_type": "code",
      "source": [
        "acc_predit_train = accuracy_score(rbf_svm.predict(X_train), y_train)\n",
        "acc_predit_val = accuracy_score(rbf_svm.predict(X_valid), y_valid)\n",
        "acc_predit_test = accuracy_score(rbf_svm.predict(X_test), y_test)\n",
        "\n",
        "print(\"Accuracy of Training data: \", acc_predit_train)\n",
        "print(\"Accuracy of Validation data: \", acc_predit_val)\n",
        "print(\"Accuracy of Testing data: \", acc_predit_test)"
      ],
      "metadata": {
        "id": "ALlo94nfVjbq"
      },
      "execution_count": null,
      "outputs": []
    },
    {
      "cell_type": "code",
      "execution_count": null,
      "metadata": {
        "colab": {
          "background_save": true
        },
        "id": "CaO7EKygFi-Z"
      },
      "outputs": [],
      "source": [
        "from sklearn.svm import SVC\n",
        "\n",
        "dual_svm = SVC(C=1, kernel = \"linear\")\n",
        "dual_svm.fit(X_train, y_train)\n"
      ]
    },
    {
      "cell_type": "code",
      "execution_count": null,
      "metadata": {
        "id": "igjG3AoiJJsv"
      },
      "outputs": [],
      "source": [
        "acc_predit_train = accuracy_score(dual_svm.predict(X_train), y_train)\n",
        "acc_predit_val = accuracy_score(dual_svm.predict(X_valid), y_valid)\n",
        "acc_predit_test = accuracy_score(dual_svm.predict(X_test), y_test)\n",
        "\n",
        "print(\"Accuracy of Training data: \", acc_predit_train)\n",
        "print(\"Accuracy of Validation data: \", acc_predit_val)\n",
        "print(\"Accuracy of Testing data: \", acc_predit_test)"
      ]
    },
    {
      "cell_type": "code",
      "execution_count": null,
      "metadata": {
        "id": "irBLdrhEO4nl"
      },
      "outputs": [],
      "source": []
    }
  ],
  "metadata": {
    "accelerator": "GPU",
    "colab": {
      "provenance": []
    },
    "gpuClass": "standard",
    "kernelspec": {
      "display_name": "Python 3",
      "name": "python3"
    },
    "language_info": {
      "name": "python"
    }
  },
  "nbformat": 4,
  "nbformat_minor": 0
}