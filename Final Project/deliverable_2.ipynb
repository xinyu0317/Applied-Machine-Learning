{
 "cells": [
  {
   "cell_type": "markdown",
   "id": "163bc2a0",
   "metadata": {},
   "source": [
    "# Notebook for Deliverable 2"
   ]
  },
  {
   "cell_type": "markdown",
   "id": "7f473cd4",
   "metadata": {},
   "source": [
    "Getting the data:\n",
    "\n",
    "* Go to https://www.kaggle.com/datasets/rtatman/188-million-us-wildfires?datasetId=2478&sortBy=voteCount\n",
    "* Download dataset by clicking Download in upper-right.\n",
    "* Unzip archive and place in 'data' folder in this repo."
   ]
  },
  {
   "cell_type": "code",
   "execution_count": 1,
   "id": "41d5103f",
   "metadata": {},
   "outputs": [],
   "source": [
    "import sqlite3\n",
    "import pandas as pd\n",
    "import matplotlib.pyplot as plt\n",
    "import numpy as np"
   ]
  },
  {
   "cell_type": "code",
   "execution_count": 2,
   "id": "6c1020c1",
   "metadata": {},
   "outputs": [],
   "source": [
    "#connect to sqlite db\n",
    "DB_PATH = './data/FPA_FOD_20170508.sqlite'\n",
    "db_connection = sqlite3.connect(DB_PATH)"
   ]
  },
  {
   "cell_type": "code",
   "execution_count": 3,
   "id": "bb3d54f7",
   "metadata": {},
   "outputs": [],
   "source": [
    "df_tables_in_db = pd.read_sql_query(\"SELECT name FROM sqlite_schema WHERE type='table' ORDER BY name;\", db_connection)"
   ]
  },
  {
   "cell_type": "code",
   "execution_count": 4,
   "id": "581ac7df",
   "metadata": {},
   "outputs": [
    {
     "data": {
      "text/html": [
       "<div>\n",
       "<style scoped>\n",
       "    .dataframe tbody tr th:only-of-type {\n",
       "        vertical-align: middle;\n",
       "    }\n",
       "\n",
       "    .dataframe tbody tr th {\n",
       "        vertical-align: top;\n",
       "    }\n",
       "\n",
       "    .dataframe thead th {\n",
       "        text-align: right;\n",
       "    }\n",
       "</style>\n",
       "<table border=\"1\" class=\"dataframe\">\n",
       "  <thead>\n",
       "    <tr style=\"text-align: right;\">\n",
       "      <th></th>\n",
       "      <th>name</th>\n",
       "    </tr>\n",
       "  </thead>\n",
       "  <tbody>\n",
       "    <tr>\n",
       "      <th>0</th>\n",
       "      <td>ElementaryGeometries</td>\n",
       "    </tr>\n",
       "    <tr>\n",
       "      <th>1</th>\n",
       "      <td>Fires</td>\n",
       "    </tr>\n",
       "    <tr>\n",
       "      <th>2</th>\n",
       "      <td>KNN</td>\n",
       "    </tr>\n",
       "    <tr>\n",
       "      <th>3</th>\n",
       "      <td>NWCG_UnitIDActive_20170109</td>\n",
       "    </tr>\n",
       "    <tr>\n",
       "      <th>4</th>\n",
       "      <td>SpatialIndex</td>\n",
       "    </tr>\n",
       "    <tr>\n",
       "      <th>5</th>\n",
       "      <td>geometry_columns</td>\n",
       "    </tr>\n",
       "    <tr>\n",
       "      <th>6</th>\n",
       "      <td>geometry_columns_auth</td>\n",
       "    </tr>\n",
       "    <tr>\n",
       "      <th>7</th>\n",
       "      <td>geometry_columns_field_infos</td>\n",
       "    </tr>\n",
       "    <tr>\n",
       "      <th>8</th>\n",
       "      <td>geometry_columns_statistics</td>\n",
       "    </tr>\n",
       "    <tr>\n",
       "      <th>9</th>\n",
       "      <td>geometry_columns_time</td>\n",
       "    </tr>\n",
       "    <tr>\n",
       "      <th>10</th>\n",
       "      <td>idx_Fires_Shape</td>\n",
       "    </tr>\n",
       "    <tr>\n",
       "      <th>11</th>\n",
       "      <td>idx_Fires_Shape_node</td>\n",
       "    </tr>\n",
       "    <tr>\n",
       "      <th>12</th>\n",
       "      <td>idx_Fires_Shape_parent</td>\n",
       "    </tr>\n",
       "    <tr>\n",
       "      <th>13</th>\n",
       "      <td>idx_Fires_Shape_rowid</td>\n",
       "    </tr>\n",
       "    <tr>\n",
       "      <th>14</th>\n",
       "      <td>spatial_ref_sys</td>\n",
       "    </tr>\n",
       "    <tr>\n",
       "      <th>15</th>\n",
       "      <td>spatial_ref_sys_aux</td>\n",
       "    </tr>\n",
       "    <tr>\n",
       "      <th>16</th>\n",
       "      <td>spatialite_history</td>\n",
       "    </tr>\n",
       "    <tr>\n",
       "      <th>17</th>\n",
       "      <td>sql_statements_log</td>\n",
       "    </tr>\n",
       "    <tr>\n",
       "      <th>18</th>\n",
       "      <td>sqlite_sequence</td>\n",
       "    </tr>\n",
       "    <tr>\n",
       "      <th>19</th>\n",
       "      <td>views_geometry_columns</td>\n",
       "    </tr>\n",
       "    <tr>\n",
       "      <th>20</th>\n",
       "      <td>views_geometry_columns_auth</td>\n",
       "    </tr>\n",
       "    <tr>\n",
       "      <th>21</th>\n",
       "      <td>views_geometry_columns_field_infos</td>\n",
       "    </tr>\n",
       "    <tr>\n",
       "      <th>22</th>\n",
       "      <td>views_geometry_columns_statistics</td>\n",
       "    </tr>\n",
       "    <tr>\n",
       "      <th>23</th>\n",
       "      <td>virts_geometry_columns</td>\n",
       "    </tr>\n",
       "    <tr>\n",
       "      <th>24</th>\n",
       "      <td>virts_geometry_columns_auth</td>\n",
       "    </tr>\n",
       "    <tr>\n",
       "      <th>25</th>\n",
       "      <td>virts_geometry_columns_field_infos</td>\n",
       "    </tr>\n",
       "    <tr>\n",
       "      <th>26</th>\n",
       "      <td>virts_geometry_columns_statistics</td>\n",
       "    </tr>\n",
       "  </tbody>\n",
       "</table>\n",
       "</div>"
      ],
      "text/plain": [
       "                                  name\n",
       "0                 ElementaryGeometries\n",
       "1                                Fires\n",
       "2                                  KNN\n",
       "3           NWCG_UnitIDActive_20170109\n",
       "4                         SpatialIndex\n",
       "5                     geometry_columns\n",
       "6                geometry_columns_auth\n",
       "7         geometry_columns_field_infos\n",
       "8          geometry_columns_statistics\n",
       "9                geometry_columns_time\n",
       "10                     idx_Fires_Shape\n",
       "11                idx_Fires_Shape_node\n",
       "12              idx_Fires_Shape_parent\n",
       "13               idx_Fires_Shape_rowid\n",
       "14                     spatial_ref_sys\n",
       "15                 spatial_ref_sys_aux\n",
       "16                  spatialite_history\n",
       "17                  sql_statements_log\n",
       "18                     sqlite_sequence\n",
       "19              views_geometry_columns\n",
       "20         views_geometry_columns_auth\n",
       "21  views_geometry_columns_field_infos\n",
       "22   views_geometry_columns_statistics\n",
       "23              virts_geometry_columns\n",
       "24         virts_geometry_columns_auth\n",
       "25  virts_geometry_columns_field_infos\n",
       "26   virts_geometry_columns_statistics"
      ]
     },
     "execution_count": 4,
     "metadata": {},
     "output_type": "execute_result"
    }
   ],
   "source": [
    "# get a list of all the tables in the DB\n",
    "df_tables_in_db"
   ]
  },
  {
   "cell_type": "code",
   "execution_count": 5,
   "id": "28477b45",
   "metadata": {},
   "outputs": [],
   "source": [
    "# read the Fires table into a dataframe\n",
    "df_fires = pd.read_sql_query(\"SELECT * FROM 'Fires'\", db_connection)"
   ]
  },
  {
   "cell_type": "code",
   "execution_count": 6,
   "id": "49594b54",
   "metadata": {},
   "outputs": [],
   "source": [
    "# read the Fires Shape table into a dataframe\n",
    "df_fires_shape = pd.read_sql_query(\"SELECT * FROM 'idx_Fires_Shape'\", db_connection)"
   ]
  },
  {
   "cell_type": "markdown",
   "id": "5ade5a17",
   "metadata": {},
   "source": [
    "### Fires shape"
   ]
  },
  {
   "cell_type": "code",
   "execution_count": 7,
   "id": "90fe6d1d",
   "metadata": {},
   "outputs": [
    {
     "data": {
      "text/plain": [
       "(1880465, 5)"
      ]
     },
     "execution_count": 7,
     "metadata": {},
     "output_type": "execute_result"
    }
   ],
   "source": [
    "df_fires_shape.shape"
   ]
  },
  {
   "cell_type": "code",
   "execution_count": 8,
   "id": "49c4c4b3",
   "metadata": {},
   "outputs": [
    {
     "data": {
      "text/html": [
       "<div>\n",
       "<style scoped>\n",
       "    .dataframe tbody tr th:only-of-type {\n",
       "        vertical-align: middle;\n",
       "    }\n",
       "\n",
       "    .dataframe tbody tr th {\n",
       "        vertical-align: top;\n",
       "    }\n",
       "\n",
       "    .dataframe thead th {\n",
       "        text-align: right;\n",
       "    }\n",
       "</style>\n",
       "<table border=\"1\" class=\"dataframe\">\n",
       "  <thead>\n",
       "    <tr style=\"text-align: right;\">\n",
       "      <th></th>\n",
       "      <th>pkid</th>\n",
       "      <th>xmin</th>\n",
       "      <th>xmax</th>\n",
       "      <th>ymin</th>\n",
       "      <th>ymax</th>\n",
       "    </tr>\n",
       "  </thead>\n",
       "  <tbody>\n",
       "    <tr>\n",
       "      <th>0</th>\n",
       "      <td>1064078</td>\n",
       "      <td>-166.869400</td>\n",
       "      <td>-166.869385</td>\n",
       "      <td>65.982597</td>\n",
       "      <td>65.982605</td>\n",
       "    </tr>\n",
       "    <tr>\n",
       "      <th>1</th>\n",
       "      <td>1064195</td>\n",
       "      <td>-166.269302</td>\n",
       "      <td>-166.269287</td>\n",
       "      <td>65.115898</td>\n",
       "      <td>65.115906</td>\n",
       "    </tr>\n",
       "    <tr>\n",
       "      <th>2</th>\n",
       "      <td>1729139</td>\n",
       "      <td>-166.166702</td>\n",
       "      <td>-166.166687</td>\n",
       "      <td>65.833298</td>\n",
       "      <td>65.833305</td>\n",
       "    </tr>\n",
       "    <tr>\n",
       "      <th>3</th>\n",
       "      <td>1064196</td>\n",
       "      <td>-166.152725</td>\n",
       "      <td>-166.152695</td>\n",
       "      <td>65.182594</td>\n",
       "      <td>65.182602</td>\n",
       "    </tr>\n",
       "    <tr>\n",
       "      <th>4</th>\n",
       "      <td>1064225</td>\n",
       "      <td>-166.029404</td>\n",
       "      <td>-166.029373</td>\n",
       "      <td>65.926895</td>\n",
       "      <td>65.926903</td>\n",
       "    </tr>\n",
       "  </tbody>\n",
       "</table>\n",
       "</div>"
      ],
      "text/plain": [
       "      pkid        xmin        xmax       ymin       ymax\n",
       "0  1064078 -166.869400 -166.869385  65.982597  65.982605\n",
       "1  1064195 -166.269302 -166.269287  65.115898  65.115906\n",
       "2  1729139 -166.166702 -166.166687  65.833298  65.833305\n",
       "3  1064196 -166.152725 -166.152695  65.182594  65.182602\n",
       "4  1064225 -166.029404 -166.029373  65.926895  65.926903"
      ]
     },
     "execution_count": 8,
     "metadata": {},
     "output_type": "execute_result"
    }
   ],
   "source": [
    "df_fires_shape.head()"
   ]
  },
  {
   "cell_type": "code",
   "execution_count": 9,
   "id": "cfe0e216",
   "metadata": {},
   "outputs": [],
   "source": [
    "## TODO: is fire shape useful? need to investigate what these values represent and if it can be used"
   ]
  },
  {
   "cell_type": "markdown",
   "id": "3885ea91",
   "metadata": {},
   "source": [
    "### Fires"
   ]
  },
  {
   "cell_type": "code",
   "execution_count": 10,
   "id": "dded076c",
   "metadata": {},
   "outputs": [
    {
     "data": {
      "text/plain": [
       "(1880465, 39)"
      ]
     },
     "execution_count": 10,
     "metadata": {},
     "output_type": "execute_result"
    }
   ],
   "source": [
    "df_fires.shape"
   ]
  },
  {
   "cell_type": "code",
   "execution_count": 11,
   "id": "e7d0a2be",
   "metadata": {},
   "outputs": [
    {
     "data": {
      "text/html": [
       "<div>\n",
       "<style scoped>\n",
       "    .dataframe tbody tr th:only-of-type {\n",
       "        vertical-align: middle;\n",
       "    }\n",
       "\n",
       "    .dataframe tbody tr th {\n",
       "        vertical-align: top;\n",
       "    }\n",
       "\n",
       "    .dataframe thead th {\n",
       "        text-align: right;\n",
       "    }\n",
       "</style>\n",
       "<table border=\"1\" class=\"dataframe\">\n",
       "  <thead>\n",
       "    <tr style=\"text-align: right;\">\n",
       "      <th></th>\n",
       "      <th>OBJECTID</th>\n",
       "      <th>FOD_ID</th>\n",
       "      <th>FPA_ID</th>\n",
       "      <th>SOURCE_SYSTEM_TYPE</th>\n",
       "      <th>SOURCE_SYSTEM</th>\n",
       "      <th>NWCG_REPORTING_AGENCY</th>\n",
       "      <th>NWCG_REPORTING_UNIT_ID</th>\n",
       "      <th>NWCG_REPORTING_UNIT_NAME</th>\n",
       "      <th>SOURCE_REPORTING_UNIT</th>\n",
       "      <th>SOURCE_REPORTING_UNIT_NAME</th>\n",
       "      <th>...</th>\n",
       "      <th>FIRE_SIZE_CLASS</th>\n",
       "      <th>LATITUDE</th>\n",
       "      <th>LONGITUDE</th>\n",
       "      <th>OWNER_CODE</th>\n",
       "      <th>OWNER_DESCR</th>\n",
       "      <th>STATE</th>\n",
       "      <th>COUNTY</th>\n",
       "      <th>FIPS_CODE</th>\n",
       "      <th>FIPS_NAME</th>\n",
       "      <th>Shape</th>\n",
       "    </tr>\n",
       "  </thead>\n",
       "  <tbody>\n",
       "    <tr>\n",
       "      <th>0</th>\n",
       "      <td>1</td>\n",
       "      <td>1</td>\n",
       "      <td>FS-1418826</td>\n",
       "      <td>FED</td>\n",
       "      <td>FS-FIRESTAT</td>\n",
       "      <td>FS</td>\n",
       "      <td>USCAPNF</td>\n",
       "      <td>Plumas National Forest</td>\n",
       "      <td>0511</td>\n",
       "      <td>Plumas National Forest</td>\n",
       "      <td>...</td>\n",
       "      <td>A</td>\n",
       "      <td>40.036944</td>\n",
       "      <td>-121.005833</td>\n",
       "      <td>5.0</td>\n",
       "      <td>USFS</td>\n",
       "      <td>CA</td>\n",
       "      <td>63</td>\n",
       "      <td>063</td>\n",
       "      <td>Plumas</td>\n",
       "      <td>b'\\x00\\x01\\xad\\x10\\x00\\x00\\xe8d\\xc2\\x92_@^\\xc0...</td>\n",
       "    </tr>\n",
       "    <tr>\n",
       "      <th>1</th>\n",
       "      <td>2</td>\n",
       "      <td>2</td>\n",
       "      <td>FS-1418827</td>\n",
       "      <td>FED</td>\n",
       "      <td>FS-FIRESTAT</td>\n",
       "      <td>FS</td>\n",
       "      <td>USCAENF</td>\n",
       "      <td>Eldorado National Forest</td>\n",
       "      <td>0503</td>\n",
       "      <td>Eldorado National Forest</td>\n",
       "      <td>...</td>\n",
       "      <td>A</td>\n",
       "      <td>38.933056</td>\n",
       "      <td>-120.404444</td>\n",
       "      <td>5.0</td>\n",
       "      <td>USFS</td>\n",
       "      <td>CA</td>\n",
       "      <td>61</td>\n",
       "      <td>061</td>\n",
       "      <td>Placer</td>\n",
       "      <td>b'\\x00\\x01\\xad\\x10\\x00\\x00T\\xb6\\xeej\\xe2\\x19^\\...</td>\n",
       "    </tr>\n",
       "    <tr>\n",
       "      <th>2</th>\n",
       "      <td>3</td>\n",
       "      <td>3</td>\n",
       "      <td>FS-1418835</td>\n",
       "      <td>FED</td>\n",
       "      <td>FS-FIRESTAT</td>\n",
       "      <td>FS</td>\n",
       "      <td>USCAENF</td>\n",
       "      <td>Eldorado National Forest</td>\n",
       "      <td>0503</td>\n",
       "      <td>Eldorado National Forest</td>\n",
       "      <td>...</td>\n",
       "      <td>A</td>\n",
       "      <td>38.984167</td>\n",
       "      <td>-120.735556</td>\n",
       "      <td>13.0</td>\n",
       "      <td>STATE OR PRIVATE</td>\n",
       "      <td>CA</td>\n",
       "      <td>17</td>\n",
       "      <td>017</td>\n",
       "      <td>El Dorado</td>\n",
       "      <td>b'\\x00\\x01\\xad\\x10\\x00\\x00\\xd0\\xa5\\xa0W\\x13/^\\...</td>\n",
       "    </tr>\n",
       "    <tr>\n",
       "      <th>3</th>\n",
       "      <td>4</td>\n",
       "      <td>4</td>\n",
       "      <td>FS-1418845</td>\n",
       "      <td>FED</td>\n",
       "      <td>FS-FIRESTAT</td>\n",
       "      <td>FS</td>\n",
       "      <td>USCAENF</td>\n",
       "      <td>Eldorado National Forest</td>\n",
       "      <td>0503</td>\n",
       "      <td>Eldorado National Forest</td>\n",
       "      <td>...</td>\n",
       "      <td>A</td>\n",
       "      <td>38.559167</td>\n",
       "      <td>-119.913333</td>\n",
       "      <td>5.0</td>\n",
       "      <td>USFS</td>\n",
       "      <td>CA</td>\n",
       "      <td>3</td>\n",
       "      <td>003</td>\n",
       "      <td>Alpine</td>\n",
       "      <td>b'\\x00\\x01\\xad\\x10\\x00\\x00\\x94\\xac\\xa3\\rt\\xfa]...</td>\n",
       "    </tr>\n",
       "    <tr>\n",
       "      <th>4</th>\n",
       "      <td>5</td>\n",
       "      <td>5</td>\n",
       "      <td>FS-1418847</td>\n",
       "      <td>FED</td>\n",
       "      <td>FS-FIRESTAT</td>\n",
       "      <td>FS</td>\n",
       "      <td>USCAENF</td>\n",
       "      <td>Eldorado National Forest</td>\n",
       "      <td>0503</td>\n",
       "      <td>Eldorado National Forest</td>\n",
       "      <td>...</td>\n",
       "      <td>A</td>\n",
       "      <td>38.559167</td>\n",
       "      <td>-119.933056</td>\n",
       "      <td>5.0</td>\n",
       "      <td>USFS</td>\n",
       "      <td>CA</td>\n",
       "      <td>3</td>\n",
       "      <td>003</td>\n",
       "      <td>Alpine</td>\n",
       "      <td>b'\\x00\\x01\\xad\\x10\\x00\\x00@\\xe3\\xaa.\\xb7\\xfb]\\...</td>\n",
       "    </tr>\n",
       "  </tbody>\n",
       "</table>\n",
       "<p>5 rows × 39 columns</p>\n",
       "</div>"
      ],
      "text/plain": [
       "   OBJECTID  FOD_ID      FPA_ID SOURCE_SYSTEM_TYPE SOURCE_SYSTEM  \\\n",
       "0         1       1  FS-1418826                FED   FS-FIRESTAT   \n",
       "1         2       2  FS-1418827                FED   FS-FIRESTAT   \n",
       "2         3       3  FS-1418835                FED   FS-FIRESTAT   \n",
       "3         4       4  FS-1418845                FED   FS-FIRESTAT   \n",
       "4         5       5  FS-1418847                FED   FS-FIRESTAT   \n",
       "\n",
       "  NWCG_REPORTING_AGENCY NWCG_REPORTING_UNIT_ID  NWCG_REPORTING_UNIT_NAME  \\\n",
       "0                    FS                USCAPNF    Plumas National Forest   \n",
       "1                    FS                USCAENF  Eldorado National Forest   \n",
       "2                    FS                USCAENF  Eldorado National Forest   \n",
       "3                    FS                USCAENF  Eldorado National Forest   \n",
       "4                    FS                USCAENF  Eldorado National Forest   \n",
       "\n",
       "  SOURCE_REPORTING_UNIT SOURCE_REPORTING_UNIT_NAME  ... FIRE_SIZE_CLASS  \\\n",
       "0                  0511     Plumas National Forest  ...               A   \n",
       "1                  0503   Eldorado National Forest  ...               A   \n",
       "2                  0503   Eldorado National Forest  ...               A   \n",
       "3                  0503   Eldorado National Forest  ...               A   \n",
       "4                  0503   Eldorado National Forest  ...               A   \n",
       "\n",
       "    LATITUDE   LONGITUDE OWNER_CODE       OWNER_DESCR STATE COUNTY FIPS_CODE  \\\n",
       "0  40.036944 -121.005833        5.0              USFS    CA     63       063   \n",
       "1  38.933056 -120.404444        5.0              USFS    CA     61       061   \n",
       "2  38.984167 -120.735556       13.0  STATE OR PRIVATE    CA     17       017   \n",
       "3  38.559167 -119.913333        5.0              USFS    CA      3       003   \n",
       "4  38.559167 -119.933056        5.0              USFS    CA      3       003   \n",
       "\n",
       "   FIPS_NAME                                              Shape  \n",
       "0     Plumas  b'\\x00\\x01\\xad\\x10\\x00\\x00\\xe8d\\xc2\\x92_@^\\xc0...  \n",
       "1     Placer  b'\\x00\\x01\\xad\\x10\\x00\\x00T\\xb6\\xeej\\xe2\\x19^\\...  \n",
       "2  El Dorado  b'\\x00\\x01\\xad\\x10\\x00\\x00\\xd0\\xa5\\xa0W\\x13/^\\...  \n",
       "3     Alpine  b'\\x00\\x01\\xad\\x10\\x00\\x00\\x94\\xac\\xa3\\rt\\xfa]...  \n",
       "4     Alpine  b'\\x00\\x01\\xad\\x10\\x00\\x00@\\xe3\\xaa.\\xb7\\xfb]\\...  \n",
       "\n",
       "[5 rows x 39 columns]"
      ]
     },
     "execution_count": 11,
     "metadata": {},
     "output_type": "execute_result"
    }
   ],
   "source": [
    "df_fires.head()"
   ]
  },
  {
   "cell_type": "code",
   "execution_count": 23,
   "id": "82301494",
   "metadata": {},
   "outputs": [
    {
     "data": {
      "text/plain": [
       "Index(['OBJECTID', 'FOD_ID', 'FPA_ID', 'SOURCE_SYSTEM_TYPE', 'SOURCE_SYSTEM',\n",
       "       'NWCG_REPORTING_AGENCY', 'NWCG_REPORTING_UNIT_ID',\n",
       "       'NWCG_REPORTING_UNIT_NAME', 'SOURCE_REPORTING_UNIT',\n",
       "       'SOURCE_REPORTING_UNIT_NAME', 'LOCAL_FIRE_REPORT_ID',\n",
       "       'LOCAL_INCIDENT_ID', 'FIRE_CODE', 'FIRE_NAME',\n",
       "       'ICS_209_INCIDENT_NUMBER', 'ICS_209_NAME', 'MTBS_ID', 'MTBS_FIRE_NAME',\n",
       "       'COMPLEX_NAME', 'FIRE_YEAR', 'DISCOVERY_DATE', 'DISCOVERY_DOY',\n",
       "       'DISCOVERY_TIME', 'STAT_CAUSE_CODE', 'STAT_CAUSE_DESCR', 'CONT_DATE',\n",
       "       'CONT_DOY', 'CONT_TIME', 'FIRE_SIZE', 'FIRE_SIZE_CLASS', 'LATITUDE',\n",
       "       'LONGITUDE', 'OWNER_CODE', 'OWNER_DESCR', 'STATE', 'COUNTY',\n",
       "       'FIPS_CODE', 'FIPS_NAME', 'Shape'],\n",
       "      dtype='object')"
      ]
     },
     "execution_count": 23,
     "metadata": {},
     "output_type": "execute_result"
    }
   ],
   "source": [
    "df_fires.columns"
   ]
  },
  {
   "cell_type": "code",
   "execution_count": 25,
   "id": "f2f3b3b4",
   "metadata": {},
   "outputs": [
    {
     "data": {
      "text/html": [
       "<div>\n",
       "<style scoped>\n",
       "    .dataframe tbody tr th:only-of-type {\n",
       "        vertical-align: middle;\n",
       "    }\n",
       "\n",
       "    .dataframe tbody tr th {\n",
       "        vertical-align: top;\n",
       "    }\n",
       "\n",
       "    .dataframe thead th {\n",
       "        text-align: right;\n",
       "    }\n",
       "</style>\n",
       "<table border=\"1\" class=\"dataframe\">\n",
       "  <thead>\n",
       "    <tr style=\"text-align: right;\">\n",
       "      <th></th>\n",
       "      <th>FIRE_YEAR</th>\n",
       "      <th>STAT_CAUSE_DESCR</th>\n",
       "      <th>STAT_CAUSE_CODE</th>\n",
       "      <th>LATITUDE</th>\n",
       "      <th>LONGITUDE</th>\n",
       "      <th>STATE</th>\n",
       "      <th>DISCOVERY_DATE</th>\n",
       "      <th>FIRE_SIZE</th>\n",
       "    </tr>\n",
       "  </thead>\n",
       "  <tbody>\n",
       "    <tr>\n",
       "      <th>0</th>\n",
       "      <td>2005</td>\n",
       "      <td>Miscellaneous</td>\n",
       "      <td>9.0</td>\n",
       "      <td>40.036944</td>\n",
       "      <td>-121.005833</td>\n",
       "      <td>CA</td>\n",
       "      <td>2453403.5</td>\n",
       "      <td>0.10</td>\n",
       "    </tr>\n",
       "    <tr>\n",
       "      <th>1</th>\n",
       "      <td>2004</td>\n",
       "      <td>Lightning</td>\n",
       "      <td>1.0</td>\n",
       "      <td>38.933056</td>\n",
       "      <td>-120.404444</td>\n",
       "      <td>CA</td>\n",
       "      <td>2453137.5</td>\n",
       "      <td>0.25</td>\n",
       "    </tr>\n",
       "    <tr>\n",
       "      <th>2</th>\n",
       "      <td>2004</td>\n",
       "      <td>Debris Burning</td>\n",
       "      <td>5.0</td>\n",
       "      <td>38.984167</td>\n",
       "      <td>-120.735556</td>\n",
       "      <td>CA</td>\n",
       "      <td>2453156.5</td>\n",
       "      <td>0.10</td>\n",
       "    </tr>\n",
       "    <tr>\n",
       "      <th>3</th>\n",
       "      <td>2004</td>\n",
       "      <td>Lightning</td>\n",
       "      <td>1.0</td>\n",
       "      <td>38.559167</td>\n",
       "      <td>-119.913333</td>\n",
       "      <td>CA</td>\n",
       "      <td>2453184.5</td>\n",
       "      <td>0.10</td>\n",
       "    </tr>\n",
       "    <tr>\n",
       "      <th>4</th>\n",
       "      <td>2004</td>\n",
       "      <td>Lightning</td>\n",
       "      <td>1.0</td>\n",
       "      <td>38.559167</td>\n",
       "      <td>-119.933056</td>\n",
       "      <td>CA</td>\n",
       "      <td>2453184.5</td>\n",
       "      <td>0.10</td>\n",
       "    </tr>\n",
       "  </tbody>\n",
       "</table>\n",
       "</div>"
      ],
      "text/plain": [
       "   FIRE_YEAR STAT_CAUSE_DESCR  STAT_CAUSE_CODE   LATITUDE   LONGITUDE STATE  \\\n",
       "0       2005    Miscellaneous              9.0  40.036944 -121.005833    CA   \n",
       "1       2004        Lightning              1.0  38.933056 -120.404444    CA   \n",
       "2       2004   Debris Burning              5.0  38.984167 -120.735556    CA   \n",
       "3       2004        Lightning              1.0  38.559167 -119.913333    CA   \n",
       "4       2004        Lightning              1.0  38.559167 -119.933056    CA   \n",
       "\n",
       "   DISCOVERY_DATE  FIRE_SIZE  \n",
       "0       2453403.5       0.10  \n",
       "1       2453137.5       0.25  \n",
       "2       2453156.5       0.10  \n",
       "3       2453184.5       0.10  \n",
       "4       2453184.5       0.10  "
      ]
     },
     "execution_count": 25,
     "metadata": {},
     "output_type": "execute_result"
    }
   ],
   "source": [
    "columns_of_interest = ['FIRE_YEAR','STAT_CAUSE_DESCR', 'STAT_CAUSE_CODE','LATITUDE','LONGITUDE','STATE','DISCOVERY_DATE','FIRE_SIZE']\n",
    "\n",
    "df_fires[columns_of_interest].head()"
   ]
  },
  {
   "cell_type": "markdown",
   "id": "0da74fa1",
   "metadata": {},
   "source": [
    "## 1.) Data Exploration"
   ]
  },
  {
   "cell_type": "code",
   "execution_count": 12,
   "id": "5ca065c7",
   "metadata": {},
   "outputs": [
    {
     "data": {
      "text/plain": [
       "<AxesSubplot:>"
      ]
     },
     "execution_count": 12,
     "metadata": {},
     "output_type": "execute_result"
    },
    {
     "data": {
      "image/png": "[encoded data removed]",
      "text/plain": [
       "<Figure size 432x288 with 1 Axes>"
      ]
     },
     "metadata": {
      "needs_background": "light"
     },
     "output_type": "display_data"
    }
   ],
   "source": [
    "df_fires['STAT_CAUSE_DESCR'].value_counts().plot(kind='barh')"
   ]
  },
  {
   "cell_type": "markdown",
   "id": "7a347c0e",
   "metadata": {},
   "source": [
    "FIRESIZECLASS = Code for fire size based on the number of acres within the final fire perimeter expenditures (A=greater than 0 but less than or equal to 0.25 acres, B=0.26-9.9 acres, C=10.0-99.9 acres, D=100-299 acres, E=300 to 999 acres, F=1000 to 4999 acres, and G=5000+ acres).\n",
    "\n",
    "FIRE_SIZE = Estimate of acres within the final perimeter of the fire.\n"
   ]
  },
  {
   "cell_type": "code",
   "execution_count": 27,
   "id": "4a047bd7",
   "metadata": {},
   "outputs": [
    {
     "data": {
      "text/plain": [
       "<AxesSubplot:>"
      ]
     },
     "execution_count": 27,
     "metadata": {},
     "output_type": "execute_result"
    },
    {
     "data": {
      "image/png": "[encoded data removed]",
      "text/plain": [
       "<Figure size 432x288 with 1 Axes>"
      ]
     },
     "metadata": {
      "needs_background": "light"
     },
     "output_type": "display_data"
    }
   ],
   "source": [
    "df_fires['FIRE_SIZE_CLASS'].value_counts().sort_index().plot(kind='barh')"
   ]
  },
  {
   "cell_type": "code",
   "execution_count": 14,
   "id": "d580d9ec",
   "metadata": {},
   "outputs": [
    {
     "data": {
      "text/html": [
       "<div>\n",
       "<style scoped>\n",
       "    .dataframe tbody tr th:only-of-type {\n",
       "        vertical-align: middle;\n",
       "    }\n",
       "\n",
       "    .dataframe tbody tr th {\n",
       "        vertical-align: top;\n",
       "    }\n",
       "\n",
       "    .dataframe thead th {\n",
       "        text-align: right;\n",
       "    }\n",
       "</style>\n",
       "<table border=\"1\" class=\"dataframe\">\n",
       "  <thead>\n",
       "    <tr style=\"text-align: right;\">\n",
       "      <th></th>\n",
       "      <th>STATE</th>\n",
       "    </tr>\n",
       "  </thead>\n",
       "  <tbody>\n",
       "    <tr>\n",
       "      <th>CA</th>\n",
       "      <td>189550</td>\n",
       "    </tr>\n",
       "    <tr>\n",
       "      <th>GA</th>\n",
       "      <td>168867</td>\n",
       "    </tr>\n",
       "    <tr>\n",
       "      <th>TX</th>\n",
       "      <td>142021</td>\n",
       "    </tr>\n",
       "    <tr>\n",
       "      <th>NC</th>\n",
       "      <td>111277</td>\n",
       "    </tr>\n",
       "    <tr>\n",
       "      <th>FL</th>\n",
       "      <td>90261</td>\n",
       "    </tr>\n",
       "    <tr>\n",
       "      <th>SC</th>\n",
       "      <td>81315</td>\n",
       "    </tr>\n",
       "    <tr>\n",
       "      <th>NY</th>\n",
       "      <td>80870</td>\n",
       "    </tr>\n",
       "    <tr>\n",
       "      <th>MS</th>\n",
       "      <td>79230</td>\n",
       "    </tr>\n",
       "    <tr>\n",
       "      <th>AZ</th>\n",
       "      <td>71586</td>\n",
       "    </tr>\n",
       "    <tr>\n",
       "      <th>AL</th>\n",
       "      <td>66570</td>\n",
       "    </tr>\n",
       "    <tr>\n",
       "      <th>OR</th>\n",
       "      <td>61088</td>\n",
       "    </tr>\n",
       "    <tr>\n",
       "      <th>MN</th>\n",
       "      <td>44769</td>\n",
       "    </tr>\n",
       "    <tr>\n",
       "      <th>OK</th>\n",
       "      <td>43239</td>\n",
       "    </tr>\n",
       "    <tr>\n",
       "      <th>MT</th>\n",
       "      <td>40767</td>\n",
       "    </tr>\n",
       "    <tr>\n",
       "      <th>NM</th>\n",
       "      <td>37478</td>\n",
       "    </tr>\n",
       "    <tr>\n",
       "      <th>ID</th>\n",
       "      <td>36698</td>\n",
       "    </tr>\n",
       "    <tr>\n",
       "      <th>CO</th>\n",
       "      <td>34157</td>\n",
       "    </tr>\n",
       "    <tr>\n",
       "      <th>WA</th>\n",
       "      <td>33513</td>\n",
       "    </tr>\n",
       "    <tr>\n",
       "      <th>WI</th>\n",
       "      <td>31861</td>\n",
       "    </tr>\n",
       "    <tr>\n",
       "      <th>AR</th>\n",
       "      <td>31663</td>\n",
       "    </tr>\n",
       "    <tr>\n",
       "      <th>TN</th>\n",
       "      <td>31154</td>\n",
       "    </tr>\n",
       "    <tr>\n",
       "      <th>SD</th>\n",
       "      <td>30963</td>\n",
       "    </tr>\n",
       "    <tr>\n",
       "      <th>UT</th>\n",
       "      <td>30725</td>\n",
       "    </tr>\n",
       "    <tr>\n",
       "      <th>LA</th>\n",
       "      <td>30013</td>\n",
       "    </tr>\n",
       "    <tr>\n",
       "      <th>KY</th>\n",
       "      <td>27089</td>\n",
       "    </tr>\n",
       "    <tr>\n",
       "      <th>NJ</th>\n",
       "      <td>25949</td>\n",
       "    </tr>\n",
       "    <tr>\n",
       "      <th>PR</th>\n",
       "      <td>22081</td>\n",
       "    </tr>\n",
       "    <tr>\n",
       "      <th>WV</th>\n",
       "      <td>21967</td>\n",
       "    </tr>\n",
       "    <tr>\n",
       "      <th>VA</th>\n",
       "      <td>21833</td>\n",
       "    </tr>\n",
       "    <tr>\n",
       "      <th>MO</th>\n",
       "      <td>17953</td>\n",
       "    </tr>\n",
       "    <tr>\n",
       "      <th>NV</th>\n",
       "      <td>16956</td>\n",
       "    </tr>\n",
       "    <tr>\n",
       "      <th>ND</th>\n",
       "      <td>15201</td>\n",
       "    </tr>\n",
       "    <tr>\n",
       "      <th>WY</th>\n",
       "      <td>14166</td>\n",
       "    </tr>\n",
       "    <tr>\n",
       "      <th>ME</th>\n",
       "      <td>13150</td>\n",
       "    </tr>\n",
       "    <tr>\n",
       "      <th>AK</th>\n",
       "      <td>12843</td>\n",
       "    </tr>\n",
       "    <tr>\n",
       "      <th>MI</th>\n",
       "      <td>10502</td>\n",
       "    </tr>\n",
       "    <tr>\n",
       "      <th>HI</th>\n",
       "      <td>9895</td>\n",
       "    </tr>\n",
       "    <tr>\n",
       "      <th>PA</th>\n",
       "      <td>8712</td>\n",
       "    </tr>\n",
       "    <tr>\n",
       "      <th>NE</th>\n",
       "      <td>7973</td>\n",
       "    </tr>\n",
       "    <tr>\n",
       "      <th>KS</th>\n",
       "      <td>7673</td>\n",
       "    </tr>\n",
       "    <tr>\n",
       "      <th>CT</th>\n",
       "      <td>4976</td>\n",
       "    </tr>\n",
       "    <tr>\n",
       "      <th>IA</th>\n",
       "      <td>4134</td>\n",
       "    </tr>\n",
       "    <tr>\n",
       "      <th>MD</th>\n",
       "      <td>3622</td>\n",
       "    </tr>\n",
       "    <tr>\n",
       "      <th>OH</th>\n",
       "      <td>3479</td>\n",
       "    </tr>\n",
       "    <tr>\n",
       "      <th>MA</th>\n",
       "      <td>2626</td>\n",
       "    </tr>\n",
       "    <tr>\n",
       "      <th>NH</th>\n",
       "      <td>2452</td>\n",
       "    </tr>\n",
       "    <tr>\n",
       "      <th>IL</th>\n",
       "      <td>2327</td>\n",
       "    </tr>\n",
       "    <tr>\n",
       "      <th>IN</th>\n",
       "      <td>2098</td>\n",
       "    </tr>\n",
       "    <tr>\n",
       "      <th>RI</th>\n",
       "      <td>480</td>\n",
       "    </tr>\n",
       "    <tr>\n",
       "      <th>VT</th>\n",
       "      <td>456</td>\n",
       "    </tr>\n",
       "    <tr>\n",
       "      <th>DE</th>\n",
       "      <td>171</td>\n",
       "    </tr>\n",
       "    <tr>\n",
       "      <th>DC</th>\n",
       "      <td>66</td>\n",
       "    </tr>\n",
       "  </tbody>\n",
       "</table>\n",
       "</div>"
      ],
      "text/plain": [
       "     STATE\n",
       "CA  189550\n",
       "GA  168867\n",
       "TX  142021\n",
       "NC  111277\n",
       "FL   90261\n",
       "SC   81315\n",
       "NY   80870\n",
       "MS   79230\n",
       "AZ   71586\n",
       "AL   66570\n",
       "OR   61088\n",
       "MN   44769\n",
       "OK   43239\n",
       "MT   40767\n",
       "NM   37478\n",
       "ID   36698\n",
       "CO   34157\n",
       "WA   33513\n",
       "WI   31861\n",
       "AR   31663\n",
       "TN   31154\n",
       "SD   30963\n",
       "UT   30725\n",
       "LA   30013\n",
       "KY   27089\n",
       "NJ   25949\n",
       "PR   22081\n",
       "WV   21967\n",
       "VA   21833\n",
       "MO   17953\n",
       "NV   16956\n",
       "ND   15201\n",
       "WY   14166\n",
       "ME   13150\n",
       "AK   12843\n",
       "MI   10502\n",
       "HI    9895\n",
       "PA    8712\n",
       "NE    7973\n",
       "KS    7673\n",
       "CT    4976\n",
       "IA    4134\n",
       "MD    3622\n",
       "OH    3479\n",
       "MA    2626\n",
       "NH    2452\n",
       "IL    2327\n",
       "IN    2098\n",
       "RI     480\n",
       "VT     456\n",
       "DE     171\n",
       "DC      66"
      ]
     },
     "execution_count": 14,
     "metadata": {},
     "output_type": "execute_result"
    }
   ],
   "source": [
    "## Look at value counts by state\n",
    "## Note that this includes Puerto Rico (PR) and Virgin Islands (VI), so 52 indices total\n",
    "df_fires['STATE'].value_counts().to_frame()"
   ]
  },
  {
   "cell_type": "code",
   "execution_count": 15,
   "id": "55deda27",
   "metadata": {},
   "outputs": [
    {
     "data": {
      "image/png": "[encoded data removed]",
      "text/plain": [
       "<Figure size 432x288 with 1 Axes>"
      ]
     },
     "metadata": {
      "needs_background": "light"
     },
     "output_type": "display_data"
    }
   ],
   "source": [
    "df_fires.plot(kind='scatter', x='LONGITUDE', y='LATITUDE', alpha=0.3)\n",
    "plt.show()"
   ]
  },
  {
   "cell_type": "code",
   "execution_count": 16,
   "id": "acc04dad",
   "metadata": {},
   "outputs": [
    {
     "data": {
      "text/plain": [
       "1992     67975\n",
       "1993     61989\n",
       "1994     75955\n",
       "1995     71472\n",
       "1996     75574\n",
       "1997     61450\n",
       "1998     68370\n",
       "1999     89363\n",
       "2000     96416\n",
       "2001     86587\n",
       "2002     75656\n",
       "2003     68261\n",
       "2004     69279\n",
       "2005     88604\n",
       "2006    114004\n",
       "2007     95573\n",
       "2008     85378\n",
       "2009     78325\n",
       "2010     79889\n",
       "2011     90552\n",
       "2012     72769\n",
       "2013     64780\n",
       "2014     67753\n",
       "2015     74491\n",
       "Name: FIRE_YEAR, dtype: int64"
      ]
     },
     "execution_count": 16,
     "metadata": {},
     "output_type": "execute_result"
    }
   ],
   "source": [
    "df_fires['FIRE_YEAR'].value_counts().sort_index()"
   ]
  },
  {
   "cell_type": "code",
   "execution_count": null,
   "id": "02d3aca6",
   "metadata": {},
   "outputs": [],
   "source": [
    "## todo multiple boxplots for categorical data"
   ]
  },
  {
   "cell_type": "code",
   "execution_count": 17,
   "id": "d7435e88",
   "metadata": {},
   "outputs": [
    {
     "data": {
      "text/plain": [
       "<AxesSubplot:title={'center':'FIRE_SIZE'}, xlabel='STAT_CAUSE_DESCR'>"
      ]
     },
     "execution_count": 17,
     "metadata": {},
     "output_type": "execute_result"
    },
    {
     "data": {
      "image/png": "[encoded data removed]",
      "text/plain": [
       "<Figure size 1440x576 with 1 Axes>"
      ]
     },
     "metadata": {
      "needs_background": "light"
     },
     "output_type": "display_data"
    }
   ],
   "source": [
    "# boxplot of fire size on cause of fire\n",
    "df_fires.boxplot(by ='STAT_CAUSE_DESCR', column =['FIRE_SIZE'], grid = True, figsize=(20,8))"
   ]
  },
  {
   "cell_type": "code",
   "execution_count": 18,
   "id": "1e5c0062",
   "metadata": {},
   "outputs": [
    {
     "data": {
      "text/plain": [
       "<AxesSubplot:xlabel='FIRE_YEAR', ylabel='FIRE_SIZE'>"
      ]
     },
     "execution_count": 18,
     "metadata": {},
     "output_type": "execute_result"
    },
    {
     "data": {
      "image/png": "[encoded data removed]",
      "text/plain": [
       "<Figure size 1440x576 with 1 Axes>"
      ]
     },
     "metadata": {
      "needs_background": "light"
     },
     "output_type": "display_data"
    }
   ],
   "source": [
    "# plot fire size vs fire year\n",
    "df_fires.plot.scatter(x='FIRE_YEAR', y='FIRE_SIZE', figsize=(20, 8))"
   ]
  },
  {
   "cell_type": "code",
   "execution_count": 19,
   "id": "986de0de",
   "metadata": {},
   "outputs": [
    {
     "name": "stderr",
     "output_type": "stream",
     "text": [
      "/var/folders/ln/9hfbz9nd2rb57qtbwnq6ksl40000gp/T/ipykernel_2528/1605039361.py:4: FutureWarning: The default value of numeric_only in DataFrame.corr is deprecated. In a future version, it will default to False. Select only valid columns or specify the value of numeric_only to silence this warning.\n",
      "  corr = df.corr()\n"
     ]
    },
    {
     "data": {
      "image/png": "[encoded data removed]",
      "text/plain": [
       "<Figure size 720x720 with 1 Axes>"
      ]
     },
     "metadata": {
      "needs_background": "light"
     },
     "output_type": "display_data"
    }
   ],
   "source": [
    "#correlation\n",
    "\n",
    "def plot_corr(df, size=10):\n",
    "    corr = df.corr()\n",
    "    fig, ax = plt.subplots(figsize=(size, size))\n",
    "    ax.matshow(corr,cmap=plt.cm.Oranges)\n",
    "    plt.xticks(range(len(corr.columns)), corr.columns)\n",
    "    plt.yticks(range(len(corr.columns)), corr.columns)\n",
    "    for tick in ax.get_xticklabels():\n",
    "        tick.set_rotation(45)    \n",
    "    plt.show()\n",
    "    \n",
    "\n",
    "plot_corr(df_fires)\n",
    "\n",
    "#TODO show all columns ?"
   ]
  },
  {
   "cell_type": "code",
   "execution_count": 26,
   "id": "8390ef1c",
   "metadata": {},
   "outputs": [
    {
     "name": "stderr",
     "output_type": "stream",
     "text": [
      "/var/folders/ln/9hfbz9nd2rb57qtbwnq6ksl40000gp/T/ipykernel_2528/1605039361.py:4: FutureWarning: The default value of numeric_only in DataFrame.corr is deprecated. In a future version, it will default to False. Select only valid columns or specify the value of numeric_only to silence this warning.\n",
      "  corr = df.corr()\n"
     ]
    },
    {
     "data": {
      "image/png": "[encoded data removed]",
      "text/plain": [
       "<Figure size 720x720 with 1 Axes>"
      ]
     },
     "metadata": {
      "needs_background": "light"
     },
     "output_type": "display_data"
    }
   ],
   "source": [
    "plot_corr(df_fires[columns_of_interest])"
   ]
  },
  {
   "cell_type": "markdown",
   "id": "65c2df21",
   "metadata": {},
   "source": [
    "## 2.) Cleaning and Sampling"
   ]
  },
  {
   "cell_type": "code",
   "execution_count": 22,
   "id": "fa183168",
   "metadata": {},
   "outputs": [],
   "source": [
    "# TODO\n",
    "# encode qualitative columns: STAT_CAUSE_DESCR, STATE\n",
    "# parse datetime for DISCOVERY_DATE\n",
    "#      create day of week and month columns?\n",
    "# should latitude and longitude be scaled ? how do we effectively use Lat and Long ?\n",
    "\n"
   ]
  },
  {
   "cell_type": "code",
   "execution_count": null,
   "id": "fc5beb1e",
   "metadata": {},
   "outputs": [],
   "source": []
  }
 ],
 "metadata": {
  "kernelspec": {
   "display_name": "Python 3 (ipykernel)",
   "language": "python",
   "name": "python3"
  },
  "language_info": {
   "codemirror_mode": {
    "name": "ipython",
    "version": 3
   },
   "file_extension": ".py",
   "mimetype": "text/x-python",
   "name": "python",
   "nbconvert_exporter": "python",
   "pygments_lexer": "ipython3",
   "version": "3.9.5"
  }
 },
 "nbformat": 4,
 "nbformat_minor": 5
}
